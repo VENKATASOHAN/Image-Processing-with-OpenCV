{
  "metadata": {
    "kernelspec": {
      "language": "python",
      "display_name": "Python 3",
      "name": "python3"
    },
    "language_info": {
      "name": "python",
      "version": "3.10.13",
      "mimetype": "text/x-python",
      "codemirror_mode": {
        "name": "ipython",
        "version": 3
      },
      "pygments_lexer": "ipython3",
      "nbconvert_exporter": "python",
      "file_extension": ".py"
    },
    "kaggle": {
      "accelerator": "none",
      "dataSources": [
        {
          "sourceId": 30378,
          "sourceType": "datasetVersion",
          "datasetId": 23777
        }
      ],
      "dockerImageVersionId": 30732,
      "isInternetEnabled": true,
      "language": "python",
      "sourceType": "notebook",
      "isGpuEnabled": false
    },
    "colab": {
      "name": "Image Processing with OpenCV",
      "provenance": []
    }
  },
  "nbformat_minor": 0,
  "nbformat": 4,
  "cells": [
    {
      "cell_type": "code",
      "source": [
        "import pandas as pd\n",
        "import numpy as np\n",
        "import cv2\n",
        "\n",
        "from glob import glob\n",
        "import matplotlib.pylab as plt"
      ],
      "metadata": {
        "_uuid": "8f2839f25d086af736a60e9eeb907d3b93b6e0e5",
        "_cell_guid": "b1076dfc-b9ad-4769-8c92-a6c4dae69d19",
        "execution": {
          "iopub.status.busy": "2024-07-03T07:15:00.299329Z",
          "iopub.execute_input": "2024-07-03T07:15:00.299677Z",
          "iopub.status.idle": "2024-07-03T07:15:00.852958Z",
          "shell.execute_reply.started": "2024-07-03T07:15:00.299652Z",
          "shell.execute_reply": "2024-07-03T07:15:00.852178Z"
        },
        "trusted": true,
        "id": "LM7UdPB44XT2"
      },
      "execution_count": null,
      "outputs": []
    },
    {
      "cell_type": "code",
      "source": [
        "dog_file = glob('../input/cat-and-dog/training_set/training_set/dogs/*.jpg')\n",
        "cat_file = glob('../input/cat-and-dog/training_set/training_set/cats/*.jpg')"
      ],
      "metadata": {
        "execution": {
          "iopub.status.busy": "2024-07-03T07:15:00.854759Z",
          "iopub.execute_input": "2024-07-03T07:15:00.855184Z",
          "iopub.status.idle": "2024-07-03T07:15:01.269209Z",
          "shell.execute_reply.started": "2024-07-03T07:15:00.855155Z",
          "shell.execute_reply": "2024-07-03T07:15:01.267939Z"
        },
        "trusted": true,
        "id": "8Do0nD444XT3"
      },
      "execution_count": null,
      "outputs": []
    },
    {
      "cell_type": "markdown",
      "source": [
        "> Read image with the Matplot lib"
      ],
      "metadata": {
        "id": "Wdg67ukI4XT3"
      }
    },
    {
      "cell_type": "code",
      "source": [
        "img_mplt= plt.imread(dog_file[0])\n",
        "img_mplt"
      ],
      "metadata": {
        "execution": {
          "iopub.status.busy": "2024-07-03T07:15:01.270537Z",
          "iopub.execute_input": "2024-07-03T07:15:01.270869Z",
          "iopub.status.idle": "2024-07-03T07:15:01.298028Z",
          "shell.execute_reply.started": "2024-07-03T07:15:01.270842Z",
          "shell.execute_reply": "2024-07-03T07:15:01.296869Z"
        },
        "trusted": true,
        "id": "iGPOyRey4XT3"
      },
      "execution_count": null,
      "outputs": []
    },
    {
      "cell_type": "markdown",
      "source": [
        "> Type"
      ],
      "metadata": {
        "id": "wezA4rbd4XT3"
      }
    },
    {
      "cell_type": "code",
      "source": [
        "type(img_mplt)"
      ],
      "metadata": {
        "execution": {
          "iopub.status.busy": "2024-07-03T07:15:01.300635Z",
          "iopub.execute_input": "2024-07-03T07:15:01.300954Z",
          "iopub.status.idle": "2024-07-03T07:15:01.307149Z",
          "shell.execute_reply.started": "2024-07-03T07:15:01.300931Z",
          "shell.execute_reply": "2024-07-03T07:15:01.306115Z"
        },
        "trusted": true,
        "id": "8D4iZyeD4XT3"
      },
      "execution_count": null,
      "outputs": []
    },
    {
      "cell_type": "markdown",
      "source": [
        "> Shape"
      ],
      "metadata": {
        "id": "NBu3h-w_4XT3"
      }
    },
    {
      "cell_type": "code",
      "source": [
        "img_mplt.shape"
      ],
      "metadata": {
        "execution": {
          "iopub.status.busy": "2024-07-03T07:15:01.308333Z",
          "iopub.execute_input": "2024-07-03T07:15:01.308622Z",
          "iopub.status.idle": "2024-07-03T07:15:01.317339Z",
          "shell.execute_reply.started": "2024-07-03T07:15:01.308593Z",
          "shell.execute_reply": "2024-07-03T07:15:01.316264Z"
        },
        "trusted": true,
        "id": "_0FH39xb4XT3"
      },
      "execution_count": null,
      "outputs": []
    },
    {
      "cell_type": "markdown",
      "source": [
        "> Read image with opencv"
      ],
      "metadata": {
        "id": "jwgz912W4XT4"
      }
    },
    {
      "cell_type": "code",
      "source": [
        "img_cv = cv2.imread(cat_file[20])\n",
        "img_cv"
      ],
      "metadata": {
        "execution": {
          "iopub.status.busy": "2024-07-03T07:15:01.318683Z",
          "iopub.execute_input": "2024-07-03T07:15:01.318929Z",
          "iopub.status.idle": "2024-07-03T07:15:01.350276Z",
          "shell.execute_reply.started": "2024-07-03T07:15:01.318908Z",
          "shell.execute_reply": "2024-07-03T07:15:01.349234Z"
        },
        "trusted": true,
        "id": "SCa7T2ci4XT4"
      },
      "execution_count": null,
      "outputs": []
    },
    {
      "cell_type": "code",
      "source": [
        "fig, ax = plt.subplots(figsize=(10,10))\n",
        "ax.imshow(img_mplt)\n",
        "plt.show()"
      ],
      "metadata": {
        "execution": {
          "iopub.status.busy": "2024-07-03T07:15:01.351432Z",
          "iopub.execute_input": "2024-07-03T07:15:01.35176Z",
          "iopub.status.idle": "2024-07-03T07:15:01.715459Z",
          "shell.execute_reply.started": "2024-07-03T07:15:01.351728Z",
          "shell.execute_reply": "2024-07-03T07:15:01.714097Z"
        },
        "trusted": true,
        "id": "zFeP4XNc4XT4"
      },
      "execution_count": null,
      "outputs": []
    },
    {
      "cell_type": "code",
      "source": [
        "fig, ax = plt.subplots(figsize=(10,10))\n",
        "ax.imshow(img_mplt)\n",
        "ax.axis('off')\n",
        "plt.show()"
      ],
      "metadata": {
        "execution": {
          "iopub.status.busy": "2024-07-03T07:15:01.716647Z",
          "iopub.execute_input": "2024-07-03T07:15:01.716932Z",
          "iopub.status.idle": "2024-07-03T07:15:01.961547Z",
          "shell.execute_reply.started": "2024-07-03T07:15:01.716908Z",
          "shell.execute_reply": "2024-07-03T07:15:01.960544Z"
        },
        "trusted": true,
        "id": "XTjKF42e4XT4"
      },
      "execution_count": null,
      "outputs": []
    },
    {
      "cell_type": "code",
      "source": [
        "fig, axs=plt.subplots(1,3 ,figsize=(15,5))\n",
        "axs[0].imshow(img_mplt[:,:,0],cmap='Reds')\n",
        "axs[1].imshow(img_mplt[:,:,1],cmap='Greens')\n",
        "axs[2].imshow(img_mplt[:,:,2],cmap='Blues')\n",
        "axs[0].axis('off')\n",
        "axs[1].axis('off')\n",
        "axs[2].axis('off')\n",
        "plt.show()"
      ],
      "metadata": {
        "execution": {
          "iopub.status.busy": "2024-07-03T07:15:01.962731Z",
          "iopub.execute_input": "2024-07-03T07:15:01.962973Z",
          "iopub.status.idle": "2024-07-03T07:15:02.19121Z",
          "shell.execute_reply.started": "2024-07-03T07:15:01.962952Z",
          "shell.execute_reply": "2024-07-03T07:15:02.190419Z"
        },
        "trusted": true,
        "id": "8jCgZ94-4XT4"
      },
      "execution_count": null,
      "outputs": []
    },
    {
      "cell_type": "code",
      "source": [
        "fig, axs=plt.subplots(1,2, figsize=(10,5))\n",
        "axs[0].imshow(img_cv)\n",
        "axs[1].imshow(img_mplt)\n",
        "axs[0].set_title(\"CV Image\")\n",
        "axs[1].set_title(\"Matplot lib Image\")\n",
        "plt.show()"
      ],
      "metadata": {
        "execution": {
          "iopub.status.busy": "2024-07-03T07:15:02.19358Z",
          "iopub.execute_input": "2024-07-03T07:15:02.193833Z",
          "iopub.status.idle": "2024-07-03T07:15:02.607308Z",
          "shell.execute_reply.started": "2024-07-03T07:15:02.193812Z",
          "shell.execute_reply": "2024-07-03T07:15:02.606353Z"
        },
        "trusted": true,
        "id": "WVkWJG8u4XT4"
      },
      "execution_count": null,
      "outputs": []
    },
    {
      "cell_type": "markdown",
      "source": [
        "> Image Manipulation"
      ],
      "metadata": {
        "id": "Hgotwkw04XT4"
      }
    },
    {
      "cell_type": "code",
      "source": [
        "img=plt.imread(dog_file[84])\n",
        "fig, ax = plt.subplots(figsize=(8,8))\n",
        "ax.imshow(img)\n",
        "ax.axis('off')\n",
        "plt.show()"
      ],
      "metadata": {
        "execution": {
          "iopub.status.busy": "2024-07-03T07:15:02.60839Z",
          "iopub.execute_input": "2024-07-03T07:15:02.608642Z",
          "iopub.status.idle": "2024-07-03T07:15:02.875746Z",
          "shell.execute_reply.started": "2024-07-03T07:15:02.60862Z",
          "shell.execute_reply": "2024-07-03T07:15:02.874267Z"
        },
        "trusted": true,
        "id": "bCKBM1OO4XT4"
      },
      "execution_count": null,
      "outputs": []
    },
    {
      "cell_type": "code",
      "source": [
        "img_gry=cv2.cvtColor(img, cv2.COLOR_RGB2GRAY)\n",
        "img_gry.shape\n",
        "fig, ax = plt.subplots(figsize=(8,8))\n",
        "ax.imshow(img_gry, cmap='Greys')\n",
        "ax.axis('off')\n",
        "ax.set_title(\"Grey Image\")\n",
        "plt.show()"
      ],
      "metadata": {
        "execution": {
          "iopub.status.busy": "2024-07-03T07:15:02.876768Z",
          "iopub.execute_input": "2024-07-03T07:15:02.877049Z",
          "iopub.status.idle": "2024-07-03T07:15:03.107499Z",
          "shell.execute_reply.started": "2024-07-03T07:15:02.877026Z",
          "shell.execute_reply": "2024-07-03T07:15:03.106372Z"
        },
        "trusted": true,
        "id": "lrMXO4Mb4XT4"
      },
      "execution_count": null,
      "outputs": []
    },
    {
      "cell_type": "markdown",
      "source": [
        "> Resize and Scaling"
      ],
      "metadata": {
        "id": "kGEf5I_h4XT4"
      }
    },
    {
      "cell_type": "code",
      "source": [
        "img_rezie=cv2.resize(img,None, fx=0.25, fy=0.25)\n",
        "fix , ax = plt.subplots(figsize=(8,8))\n",
        "ax.imshow(img_rezie)\n",
        "ax.axis('off')\n",
        "plt.show()"
      ],
      "metadata": {
        "execution": {
          "iopub.status.busy": "2024-07-03T07:15:03.108613Z",
          "iopub.execute_input": "2024-07-03T07:15:03.109017Z",
          "iopub.status.idle": "2024-07-03T07:15:03.181128Z",
          "shell.execute_reply.started": "2024-07-03T07:15:03.108976Z",
          "shell.execute_reply": "2024-07-03T07:15:03.18019Z"
        },
        "trusted": true,
        "id": "Ft6u9bl74XT4"
      },
      "execution_count": null,
      "outputs": []
    },
    {
      "cell_type": "markdown",
      "source": [
        "> Resize"
      ],
      "metadata": {
        "id": "DMnr4_QV4XT4"
      }
    },
    {
      "cell_type": "code",
      "source": [
        "img_rezie1=cv2.resize(img,(100,100))\n",
        "fix , ax = plt.subplots(figsize=(8,8))\n",
        "ax.imshow(img_rezie1)\n",
        "ax.axis('off')\n",
        "plt.show()"
      ],
      "metadata": {
        "execution": {
          "iopub.status.busy": "2024-07-03T07:15:03.182532Z",
          "iopub.execute_input": "2024-07-03T07:15:03.183384Z",
          "iopub.status.idle": "2024-07-03T07:15:03.25349Z",
          "shell.execute_reply.started": "2024-07-03T07:15:03.183354Z",
          "shell.execute_reply": "2024-07-03T07:15:03.252417Z"
        },
        "trusted": true,
        "id": "G-_Sj_Ui4XT4"
      },
      "execution_count": null,
      "outputs": []
    },
    {
      "cell_type": "code",
      "source": [
        "img_rezie=cv2.resize(img,(5000,5000), interpolation=cv2.INTER_CUBIC)\n",
        "fix , ax = plt.subplots(figsize=(8,8))\n",
        "ax.imshow(img_rezie)\n",
        "ax.axis('off')\n",
        "plt.show()"
      ],
      "metadata": {
        "execution": {
          "iopub.status.busy": "2024-07-03T07:15:03.255007Z",
          "iopub.execute_input": "2024-07-03T07:15:03.255672Z",
          "iopub.status.idle": "2024-07-03T07:15:06.051827Z",
          "shell.execute_reply.started": "2024-07-03T07:15:03.255643Z",
          "shell.execute_reply": "2024-07-03T07:15:06.050583Z"
        },
        "trusted": true,
        "id": "ymquH5_B4XT4"
      },
      "execution_count": null,
      "outputs": []
    },
    {
      "cell_type": "code",
      "source": [
        "img_rezie.shape"
      ],
      "metadata": {
        "execution": {
          "iopub.status.busy": "2024-07-03T07:15:06.052974Z",
          "iopub.execute_input": "2024-07-03T07:15:06.053228Z",
          "iopub.status.idle": "2024-07-03T07:15:06.059355Z",
          "shell.execute_reply.started": "2024-07-03T07:15:06.053206Z",
          "shell.execute_reply": "2024-07-03T07:15:06.058121Z"
        },
        "trusted": true,
        "id": "irwkdBRL4XT4"
      },
      "execution_count": null,
      "outputs": []
    },
    {
      "cell_type": "markdown",
      "source": [
        "> Sharpen Image"
      ],
      "metadata": {
        "id": "x0jD0AMd4XT4"
      }
    },
    {
      "cell_type": "code",
      "source": [
        "kernel_sharp = np.array([[-1, -1, -1],\n",
        "                         [-1, 9, -1],\n",
        "                         [-1, -1, -1]])\n",
        "\n",
        "sharpened_img = cv2.filter2D(img, -1, kernel_sharp)\n",
        "\n",
        "fig, ax = plt.subplots(figsize=(8, 8))\n",
        "ax.imshow(cv2.cvtColor(sharpened_img, cv2.COLOR_BGR2RGB))\n",
        "ax.axis('off')\n",
        "plt.show()"
      ],
      "metadata": {
        "execution": {
          "iopub.status.busy": "2024-07-03T07:15:06.060972Z",
          "iopub.execute_input": "2024-07-03T07:15:06.061344Z",
          "iopub.status.idle": "2024-07-03T07:15:06.278868Z",
          "shell.execute_reply.started": "2024-07-03T07:15:06.061311Z",
          "shell.execute_reply": "2024-07-03T07:15:06.277979Z"
        },
        "trusted": true,
        "id": "54FDVnij4XT4"
      },
      "execution_count": null,
      "outputs": []
    },
    {
      "cell_type": "markdown",
      "source": [
        "> Bluring the image"
      ],
      "metadata": {
        "id": "OvwirpZ64XT4"
      }
    },
    {
      "cell_type": "code",
      "source": [
        "kernal_3= np.ones((3,3), np.float32)/ 9\n",
        "blurred= cv2.filter2D(img,-1, kernal_3)\n",
        "fix , ax = plt.subplots(figsize=(8,8))\n",
        "ax.imshow(blurred)\n",
        "ax.axis('off')\n",
        "plt.show()"
      ],
      "metadata": {
        "execution": {
          "iopub.status.busy": "2024-07-03T07:15:06.279914Z",
          "iopub.execute_input": "2024-07-03T07:15:06.280165Z",
          "iopub.status.idle": "2024-07-03T07:15:06.569543Z",
          "shell.execute_reply.started": "2024-07-03T07:15:06.280142Z",
          "shell.execute_reply": "2024-07-03T07:15:06.568362Z"
        },
        "trusted": true,
        "id": "4y22zRKL4XT4"
      },
      "execution_count": null,
      "outputs": []
    },
    {
      "cell_type": "markdown",
      "source": [
        "> Saving the image"
      ],
      "metadata": {
        "id": "1glLCGED4XT4"
      }
    },
    {
      "cell_type": "code",
      "source": [
        "plt.imsave('mplt_dog.png', blurred)"
      ],
      "metadata": {
        "execution": {
          "iopub.status.busy": "2024-07-03T07:15:06.570863Z",
          "iopub.execute_input": "2024-07-03T07:15:06.571196Z",
          "iopub.status.idle": "2024-07-03T07:15:06.708285Z",
          "shell.execute_reply.started": "2024-07-03T07:15:06.571173Z",
          "shell.execute_reply": "2024-07-03T07:15:06.707391Z"
        },
        "trusted": true,
        "id": "leHnSm634XT4"
      },
      "execution_count": null,
      "outputs": []
    },
    {
      "cell_type": "code",
      "source": [
        "cv2.imwrite('cvs_dog.png',sharpened_img)"
      ],
      "metadata": {
        "execution": {
          "iopub.status.busy": "2024-07-03T07:15:06.709611Z",
          "iopub.execute_input": "2024-07-03T07:15:06.7099Z",
          "iopub.status.idle": "2024-07-03T07:15:06.729953Z",
          "shell.execute_reply.started": "2024-07-03T07:15:06.709877Z",
          "shell.execute_reply": "2024-07-03T07:15:06.728988Z"
        },
        "trusted": true,
        "id": "0zvac35Z4XT4"
      },
      "execution_count": null,
      "outputs": []
    }
  ]
}